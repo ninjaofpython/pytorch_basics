{
 "cells": [
  {
   "cell_type": "code",
   "execution_count": 27,
   "metadata": {},
   "outputs": [
    {
     "data": {
      "text/plain": [
       "'2.0.1'"
      ]
     },
     "execution_count": 27,
     "metadata": {},
     "output_type": "execute_result"
    }
   ],
   "source": [
    "## Pytorch workflow\n",
    "import torch \n",
    "from torch import nn\n",
    "import numpy as np\n",
    "import matplotlib.pyplot as plt\n",
    "torch.__version__"
   ]
  },
  {
   "cell_type": "code",
   "execution_count": 28,
   "metadata": {},
   "outputs": [
    {
     "data": {
      "text/plain": [
       "{1: 'data (prepare and load)',\n",
       " 2: 'build model',\n",
       " 3: 'fitting the model (training)',\n",
       " 4: 'making predictions and evaluation a model (inference)',\n",
       " 5: 'save and load the model',\n",
       " 6: 'put it all together'}"
      ]
     },
     "execution_count": 28,
     "metadata": {},
     "output_type": "execute_result"
    }
   ],
   "source": [
    "what_were_covering = {\n",
    "                    1: \"data (prepare and load)\",\n",
    "                    2: \"build model\",\n",
    "                    3: \"fitting the model (training)\",\n",
    "                    4: \"making predictions and evaluation a model (inference)\",\n",
    "                    5: \"save and load the model\",\n",
    "                    6: \"put it all together\"\n",
    "\n",
    "                    }\n",
    "\n",
    "what_were_covering"
   ]
  },
  {
   "cell_type": "markdown",
   "metadata": {},
   "source": [
    "## 1. Data  (preparing and loading)\n",
    "\n",
    "Data can be almost anything in machine learning.\n",
    "\n",
    "* Excel spreadsheet\n",
    "* Images of any kind\n",
    "* Videos (Youtube has lots of data...)\n",
    "* Audio like songs or podcasts\n",
    "* DNA\n",
    "* Text\n",
    "\n",
    "Machine learning is a game of two parts:\n",
    "1. Get data into numerical representation.\n",
    "2. Build a model to learn patterns in that numerical representation.\n",
    "\n",
    "To showcase this, let's create some *known* data using linear regression formula.\n",
    "\n",
    "We'll use a linear regression formula to make a straight line with known parameters.\n",
    "\n",
    "Gradients and slope are the same things.\n",
    "\n"
   ]
  },
  {
   "cell_type": "code",
   "execution_count": 29,
   "metadata": {},
   "outputs": [
    {
     "name": "stdout",
     "output_type": "stream",
     "text": [
      "Y's value is: tensor([[0.0000],\n",
      "        [0.0042],\n",
      "        [0.0084],\n",
      "        [0.0126],\n",
      "        [0.0168],\n",
      "        [0.0210],\n",
      "        [0.0252],\n",
      "        [0.0294],\n",
      "        [0.0336],\n",
      "        [0.0378],\n",
      "        [0.0420],\n",
      "        [0.0462],\n",
      "        [0.0504],\n",
      "        [0.0546],\n",
      "        [0.0588],\n",
      "        [0.0630],\n",
      "        [0.0672],\n",
      "        [0.0714],\n",
      "        [0.0756],\n",
      "        [0.0798],\n",
      "        [0.0840],\n",
      "        [0.0882],\n",
      "        [0.0924],\n",
      "        [0.0966],\n",
      "        [0.1008],\n",
      "        [0.1050],\n",
      "        [0.1092],\n",
      "        [0.1134],\n",
      "        [0.1176],\n",
      "        [0.1218],\n",
      "        [0.1260],\n",
      "        [0.1302],\n",
      "        [0.1344],\n",
      "        [0.1386],\n",
      "        [0.1428],\n",
      "        [0.1470],\n",
      "        [0.1512],\n",
      "        [0.1554],\n",
      "        [0.1596],\n",
      "        [0.1638],\n",
      "        [0.1680],\n",
      "        [0.1722],\n",
      "        [0.1764],\n",
      "        [0.1806],\n",
      "        [0.1848],\n",
      "        [0.1890],\n",
      "        [0.1932],\n",
      "        [0.1974],\n",
      "        [0.2016],\n",
      "        [0.2058]])\n"
     ]
    },
    {
     "data": {
      "text/plain": [
       "(tensor([[0.0000],\n",
       "         [0.0200],\n",
       "         [0.0400],\n",
       "         [0.0600],\n",
       "         [0.0800],\n",
       "         [0.1000],\n",
       "         [0.1200],\n",
       "         [0.1400],\n",
       "         [0.1600],\n",
       "         [0.1800]]),\n",
       " tensor([[0.0000],\n",
       "         [0.0042],\n",
       "         [0.0084],\n",
       "         [0.0126],\n",
       "         [0.0168],\n",
       "         [0.0210],\n",
       "         [0.0252],\n",
       "         [0.0294],\n",
       "         [0.0336],\n",
       "         [0.0378]]))"
      ]
     },
     "execution_count": 29,
     "metadata": {},
     "output_type": "execute_result"
    }
   ],
   "source": [
    "# Create known parameters.\n",
    "weight = 0.7\n",
    "bias = 0.3\n",
    "\n",
    "# Create\n",
    "start = 0\n",
    "end = 1\n",
    "step = 0.02\n",
    "X = torch.arange(start, end, step).unsqueeze(dim=1)\n",
    "#print(f\"X's value {X}\")\n",
    "# Formula below\n",
    "y = weight * X * bias\n",
    "print(f\"Y's value is: {y}\")\n",
    "\n",
    "X[:10], y[:10]\n"
   ]
  },
  {
   "cell_type": "code",
   "execution_count": 30,
   "metadata": {},
   "outputs": [
    {
     "data": {
      "text/plain": [
       "(50, 50)"
      ]
     },
     "execution_count": 30,
     "metadata": {},
     "output_type": "execute_result"
    }
   ],
   "source": [
    "len(X), len(y)"
   ]
  },
  {
   "cell_type": "markdown",
   "metadata": {},
   "source": [
    "### Splitting data into training and test sets (one of the most important concepts in machine learning in general)\n",
    "\n",
    "Let's create a training and test set with out data.\n"
   ]
  },
  {
   "cell_type": "code",
   "execution_count": 31,
   "metadata": {},
   "outputs": [
    {
     "data": {
      "text/plain": [
       "(40, 40, 10, 10)"
      ]
     },
     "execution_count": 31,
     "metadata": {},
     "output_type": "execute_result"
    }
   ],
   "source": [
    "# Create a train/test split\n",
    "train_split = int(0.8 * len(X))\n",
    "X_train, y_train = X[:train_split], y[:train_split]\n",
    "X_test, y_test = X[train_split:], y[train_split:]\n",
    "#print(f\"X_test is: {X_train}\")\n",
    "#print(f\"y_test is: {X_test}\")\n",
    "len(X_train), len(y_train), len(X_test), len(y_test)"
   ]
  },
  {
   "cell_type": "markdown",
   "metadata": {},
   "source": [
    "How might we better visualize our data?\n",
    "\n",
    "This is where the matplotlib library comes into play.\n",
    "\n",
    "There is a data explorer's model that comes to play.\n",
    "\n",
    "\"visualize, visualize, visualize!\"\n",
    "\n"
   ]
  },
  {
   "cell_type": "code",
   "execution_count": 32,
   "metadata": {},
   "outputs": [
    {
     "data": {
      "text/plain": [
       "(tensor([[0.0000],\n",
       "         [0.0200],\n",
       "         [0.0400],\n",
       "         [0.0600],\n",
       "         [0.0800],\n",
       "         [0.1000],\n",
       "         [0.1200],\n",
       "         [0.1400],\n",
       "         [0.1600],\n",
       "         [0.1800],\n",
       "         [0.2000],\n",
       "         [0.2200],\n",
       "         [0.2400],\n",
       "         [0.2600],\n",
       "         [0.2800],\n",
       "         [0.3000],\n",
       "         [0.3200],\n",
       "         [0.3400],\n",
       "         [0.3600],\n",
       "         [0.3800],\n",
       "         [0.4000],\n",
       "         [0.4200],\n",
       "         [0.4400],\n",
       "         [0.4600],\n",
       "         [0.4800],\n",
       "         [0.5000],\n",
       "         [0.5200],\n",
       "         [0.5400],\n",
       "         [0.5600],\n",
       "         [0.5800],\n",
       "         [0.6000],\n",
       "         [0.6200],\n",
       "         [0.6400],\n",
       "         [0.6600],\n",
       "         [0.6800],\n",
       "         [0.7000],\n",
       "         [0.7200],\n",
       "         [0.7400],\n",
       "         [0.7600],\n",
       "         [0.7800]]),\n",
       " tensor([[0.0000],\n",
       "         [0.0042],\n",
       "         [0.0084],\n",
       "         [0.0126],\n",
       "         [0.0168],\n",
       "         [0.0210],\n",
       "         [0.0252],\n",
       "         [0.0294],\n",
       "         [0.0336],\n",
       "         [0.0378],\n",
       "         [0.0420],\n",
       "         [0.0462],\n",
       "         [0.0504],\n",
       "         [0.0546],\n",
       "         [0.0588],\n",
       "         [0.0630],\n",
       "         [0.0672],\n",
       "         [0.0714],\n",
       "         [0.0756],\n",
       "         [0.0798],\n",
       "         [0.0840],\n",
       "         [0.0882],\n",
       "         [0.0924],\n",
       "         [0.0966],\n",
       "         [0.1008],\n",
       "         [0.1050],\n",
       "         [0.1092],\n",
       "         [0.1134],\n",
       "         [0.1176],\n",
       "         [0.1218],\n",
       "         [0.1260],\n",
       "         [0.1302],\n",
       "         [0.1344],\n",
       "         [0.1386],\n",
       "         [0.1428],\n",
       "         [0.1470],\n",
       "         [0.1512],\n",
       "         [0.1554],\n",
       "         [0.1596],\n",
       "         [0.1638]]))"
      ]
     },
     "execution_count": 32,
     "metadata": {},
     "output_type": "execute_result"
    }
   ],
   "source": [
    "X_train, y_train"
   ]
  },
  {
   "cell_type": "code",
   "execution_count": 33,
   "metadata": {},
   "outputs": [],
   "source": [
    "def plot_predictions(train_data=X_train,\n",
    "                    train_labels=y_train,\n",
    "                    test_data=X_test,\n",
    "                    test_labels=y_test,\n",
    "                    predictions=None):\n",
    "    \"\"\"\n",
    "        Plot training data, test data and compares predictions.\n",
    "    \"\"\"\n",
    "    plt.figure(figsize=(10, 7))\n",
    "\n",
    "    # Plot training data in blue\n",
    "    plt.scatter(train_data, train_labels, c=\"b\", s=4, label=\"Training data\")\n",
    "\n",
    "    # Plot testing data in green\n",
    "    plt.scatter(test_data, test_labels, c=\"g\", s=4, label=\"Testing data\")\n",
    "\n",
    "# Are there predictions?\n",
    "    if predictions is not None:\n",
    "        # Plot the predictions if they exists\n",
    "        plt.scatter(test_data, predictions, c=\"r\", s=4, label=\"Predictions\")\n",
    "\n",
    "    plt.legend(prop={\"size\": 14})"
   ]
  },
  {
   "cell_type": "code",
   "execution_count": 34,
   "metadata": {},
   "outputs": [
    {
     "data": {
      "image/png": "[encoded data removed]",
      "text/plain": [
       "<Figure size 1000x700 with 1 Axes>"
      ]
     },
     "metadata": {},
     "output_type": "display_data"
    }
   ],
   "source": [
    "plot_predictions()"
   ]
  },
  {
   "cell_type": "markdown",
   "metadata": {},
   "source": [
    "2. Building our first model in PyTorch\n",
    "This is very exciting... let's do it!\n",
    "\n",
    "We're going to be building classes throughout the course so get better familiar with these...\n",
    "\n",
    "What our model does:\n",
    "\n",
    "Start with random values (weight and & bias)\n",
    "Look for Training data and adjust the random values to better represent (or get closer to) the ideal values (the weight and bias values we used to create the values).\n",
    "How does it do so?\n",
    "\n",
    "Through two main algorithms: Through two main algorithms:\n",
    "\n",
    "Gradient descent -> required_grads=True\n",
    "Backpropagation"
   ]
  },
  {
   "cell_type": "code",
   "execution_count": 42,
   "metadata": {},
   "outputs": [],
   "source": [
    " #Create linear regression model class, first PyTorch linear progression model\n",
    "class LinearRegressionModel(nn.Module): # <- almost everything in PyTorch imports from nn.Module neural networks.\n",
    "    def __init__(self):\n",
    "        super().__init__()\n",
    "        self.weights = nn.Parameter(torch.rand(1, # <- Start with a random weight and try to adjust it to the ideal weight\n",
    "                                               requires_grad=True, # <- Can this parameter be updated by a gradient descent?\n",
    "                                               dtype=torch.float)) # <- PyTorch loves this data type torch.float32\n",
    "        \n",
    "        self.bias = nn.Parameter(torch.rand(1, # <- Start with a random bias and try to adjust it to the ideal bias\n",
    "                                             requires_grad=True, # <- Can this parameter be updated by a gradient descent?\n",
    "                                             dtype=torch.float)) # <- PyTorch loves this data type torch.float32...\n",
    "        \n",
    "    # Forward method to define the computation\n",
    "    def forward(self, x: torch.Tensor) -> torch.Tensor: # <- \"x\" is the input data\n",
    "        return self.weights * x + self.bias # this is linear regression formula"
   ]
  },
  {
   "cell_type": "markdown",
   "metadata": {},
   "source": [
    "PyTorch model building essentials\n",
    "torch.nn - contains all the building blocks for computational graphs (a neural network can be considered a computational graph)\n",
    "torch.nn.Parameter - what parameters should our model try and learn, often PyTorch layer from torch.nn will set these for us\n",
    "torch.nn Module - The base class for all neural network modules, if you subclass it, you should overwrite forward()\n",
    "torch.optim - this is where the optimizers in PyTorch live, they will help with gradient descent.\n",
    "def forward() - All nn.Module subclasses require you to overwrite forward() this method defines what happens in the forward computation."
   ]
  },
  {
   "cell_type": "markdown",
   "metadata": {},
   "source": [
    "Checking the contents of our PyTorch Module\n",
    "\n",
    "Now we've check our model or what's inside using our model .parameters()"
   ]
  },
  {
   "cell_type": "code",
   "execution_count": 43,
   "metadata": {},
   "outputs": [
    {
     "data": {
      "text/plain": [
       "tensor([0.4740])"
      ]
     },
     "execution_count": 43,
     "metadata": {},
     "output_type": "execute_result"
    }
   ],
   "source": [
    "torch.randn(1)"
   ]
  },
  {
   "cell_type": "markdown",
   "metadata": {},
   "source": [
    "torch.randn(1)"
   ]
  },
  {
   "cell_type": "code",
   "execution_count": 44,
   "metadata": {},
   "outputs": [
    {
     "data": {
      "text/plain": [
       "[Parameter containing:\n",
       " tensor([0.8823], requires_grad=True),\n",
       " Parameter containing:\n",
       " tensor([0.9150], requires_grad=True)]"
      ]
     },
     "execution_count": 44,
     "metadata": {},
     "output_type": "execute_result"
    }
   ],
   "source": [
    "# Create a random seed, to keep the numbers consistent.\n",
    "torch.manual_seed(42)\n",
    "\n",
    "# Create an instance of LinearRegression class\n",
    "model_0 = LinearRegressionModel()\n",
    "\n",
    "# Check out the parameters\n",
    "list(model_0.parameters())"
   ]
  },
  {
   "cell_type": "code",
   "execution_count": 45,
   "metadata": {},
   "outputs": [
    {
     "data": {
      "text/plain": [
       "OrderedDict([('weights', tensor([0.8823])), ('bias', tensor([0.9150]))])"
      ]
     },
     "execution_count": 45,
     "metadata": {},
     "output_type": "execute_result"
    }
   ],
   "source": [
    "# List the named parameters\n",
    "model_0.state_dict()"
   ]
  },
  {
   "cell_type": "code",
   "execution_count": 46,
   "metadata": {},
   "outputs": [
    {
     "data": {
      "text/plain": [
       "(0.7, 0.3)"
      ]
     },
     "execution_count": 46,
     "metadata": {},
     "output_type": "execute_result"
    }
   ],
   "source": [
    "weight, bias"
   ]
  },
  {
   "cell_type": "code",
   "execution_count": 48,
   "metadata": {},
   "outputs": [
    {
     "data": {
      "text/plain": [
       "tensor([[0.8000],\n",
       "        [0.8200],\n",
       "        [0.8400],\n",
       "        [0.8600],\n",
       "        [0.8800],\n",
       "        [0.9000],\n",
       "        [0.9200],\n",
       "        [0.9400],\n",
       "        [0.9600],\n",
       "        [0.9800]])"
      ]
     },
     "execution_count": 48,
     "metadata": {},
     "output_type": "execute_result"
    }
   ],
   "source": [
    "X_test"
   ]
  },
  {
   "cell_type": "markdown",
   "metadata": {},
   "source": [
    "# Making prediction using `torch.inference_mode()`\n",
    "\n",
    "To check our model's predictive power, let's see how well it predicts `y_test` based on `X_test`\n",
    "\n",
    "When we pass data through our model, it's going to run it through the forward() method."
   ]
  },
  {
   "cell_type": "code",
   "execution_count": 47,
   "metadata": {},
   "outputs": [
    {
     "data": {
      "text/plain": [
       "tensor([[1.6208],\n",
       "        [1.6385],\n",
       "        [1.6561],\n",
       "        [1.6738],\n",
       "        [1.6914],\n",
       "        [1.7090],\n",
       "        [1.7267],\n",
       "        [1.7443],\n",
       "        [1.7620],\n",
       "        [1.7796]])"
      ]
     },
     "execution_count": 47,
     "metadata": {},
     "output_type": "execute_result"
    }
   ],
   "source": [
    "# Make predictions with model with inference mode\n",
    "# Inference mode disables required_grads are keeping less track of data good for speed but not accuracy.\n",
    "# Think about Inference mode for larger mode, torch.no_grad is old but is in old code.\n",
    "with torch.inference_mode():\n",
    "    y_preds = model_0(X_test)\n",
    "\n",
    "y_preds"
   ]
  },
  {
   "cell_type": "code",
   "execution_count": 49,
   "metadata": {},
   "outputs": [
    {
     "data": {
      "text/plain": [
       "tensor([[0.1680],\n",
       "        [0.1722],\n",
       "        [0.1764],\n",
       "        [0.1806],\n",
       "        [0.1848],\n",
       "        [0.1890],\n",
       "        [0.1932],\n",
       "        [0.1974],\n",
       "        [0.2016],\n",
       "        [0.2058]])"
      ]
     },
     "execution_count": 49,
     "metadata": {},
     "output_type": "execute_result"
    }
   ],
   "source": [
    "y_test"
   ]
  },
  {
   "cell_type": "code",
   "execution_count": 50,
   "metadata": {},
   "outputs": [
    {
     "data": {
      "image/png": "[encoded data removed]",
      "text/plain": [
       "<Figure size 1000x700 with 1 Axes>"
      ]
     },
     "metadata": {},
     "output_type": "display_data"
    }
   ],
   "source": [
    "# Visualize, visualize, visualize\n",
    "plot_predictions(predictions=y_preds)"
   ]
  },
  {
   "cell_type": "markdown",
   "metadata": {},
   "source": [
    "## 3. Training a model \n",
    "\n",
    "The whole idea of training is for a model to move from some *unknown* parameters (these may be random) to some *known* parameters.\n",
    "\n",
    "Or in other words from a poor representation of the data to a better representation of the data."
   ]
  }
 ],
 "metadata": {
  "kernelspec": {
   "display_name": "pytorch",
   "language": "python",
   "name": "python3"
  },
  "language_info": {
   "codemirror_mode": {
    "name": "ipython",
    "version": 3
   },
   "file_extension": ".py",
   "mimetype": "text/x-python",
   "name": "python",
   "nbconvert_exporter": "python",
   "pygments_lexer": "ipython3",
   "version": "3.9.17"
  },
  "orig_nbformat": 4
 },
 "nbformat": 4,
 "nbformat_minor": 2
}
