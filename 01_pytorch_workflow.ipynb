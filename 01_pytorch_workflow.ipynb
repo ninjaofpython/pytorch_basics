{
 "cells": [
  {
   "cell_type": "code",
   "execution_count": 53,
   "metadata": {},
   "outputs": [
    {
     "data": {
      "text/plain": [
       "'2.0.1'"
      ]
     },
     "execution_count": 53,
     "metadata": {},
     "output_type": "execute_result"
    }
   ],
   "source": [
    "## Pytorch workflow\n",
    "import torch \n",
    "from torch import nn\n",
    "import numpy as np\n",
    "import matplotlib.pyplot as plt\n",
    "torch.__version__"
   ]
  },
  {
   "cell_type": "code",
   "execution_count": 54,
   "metadata": {},
   "outputs": [
    {
     "data": {
      "text/plain": [
       "{1: 'data (prepare and load)',\n",
       " 2: 'build model',\n",
       " 3: 'fitting the model (training)',\n",
       " 4: 'making predictions and evaluation a model (inference)',\n",
       " 5: 'save and load the model',\n",
       " 6: 'put it all together'}"
      ]
     },
     "execution_count": 54,
     "metadata": {},
     "output_type": "execute_result"
    }
   ],
   "source": [
    "what_were_covering = {\n",
    "                    1: \"data (prepare and load)\",\n",
    "                    2: \"build model\",\n",
    "                    3: \"fitting the model (training)\",\n",
    "                    4: \"making predictions and evaluation a model (inference)\",\n",
    "                    5: \"save and load the model\",\n",
    "                    6: \"put it all together\"\n",
    "\n",
    "                    }\n",
    "\n",
    "what_were_covering"
   ]
  },
  {
   "cell_type": "markdown",
   "metadata": {},
   "source": [
    "## 1. Data  (preparing and loading)\n",
    "\n",
    "Data can be almost anything in machine learning.\n",
    "\n",
    "* Excel spreadsheet\n",
    "* Images of any kind\n",
    "* Videos (Youtube has lots of data...)\n",
    "* Audio like songs or podcasts\n",
    "* DNA\n",
    "* Text\n",
    "\n",
    "Machine learning is a game of two parts:\n",
    "1. Get data into numerical representation.\n",
    "2. Build a model to learn patterns in that numerical representation.\n",
    "\n",
    "To showcase this, let's create some *known* data using linear regression formula.\n",
    "\n",
    "We'll use a linear regression formula to make a straight line with known parameters.\n",
    "\n",
    "Gradients and slope are the same things.\n",
    "\n"
   ]
  },
  {
   "cell_type": "code",
   "execution_count": 55,
   "metadata": {},
   "outputs": [
    {
     "name": "stdout",
     "output_type": "stream",
     "text": [
      "Y's value is: tensor([[0.3000],\n",
      "        [0.3140],\n",
      "        [0.3280],\n",
      "        [0.3420],\n",
      "        [0.3560],\n",
      "        [0.3700],\n",
      "        [0.3840],\n",
      "        [0.3980],\n",
      "        [0.4120],\n",
      "        [0.4260],\n",
      "        [0.4400],\n",
      "        [0.4540],\n",
      "        [0.4680],\n",
      "        [0.4820],\n",
      "        [0.4960],\n",
      "        [0.5100],\n",
      "        [0.5240],\n",
      "        [0.5380],\n",
      "        [0.5520],\n",
      "        [0.5660],\n",
      "        [0.5800],\n",
      "        [0.5940],\n",
      "        [0.6080],\n",
      "        [0.6220],\n",
      "        [0.6360],\n",
      "        [0.6500],\n",
      "        [0.6640],\n",
      "        [0.6780],\n",
      "        [0.6920],\n",
      "        [0.7060],\n",
      "        [0.7200],\n",
      "        [0.7340],\n",
      "        [0.7480],\n",
      "        [0.7620],\n",
      "        [0.7760],\n",
      "        [0.7900],\n",
      "        [0.8040],\n",
      "        [0.8180],\n",
      "        [0.8320],\n",
      "        [0.8460],\n",
      "        [0.8600],\n",
      "        [0.8740],\n",
      "        [0.8880],\n",
      "        [0.9020],\n",
      "        [0.9160],\n",
      "        [0.9300],\n",
      "        [0.9440],\n",
      "        [0.9580],\n",
      "        [0.9720],\n",
      "        [0.9860]])\n"
     ]
    },
    {
     "data": {
      "text/plain": [
       "(tensor([[0.0000],\n",
       "         [0.0200],\n",
       "         [0.0400],\n",
       "         [0.0600],\n",
       "         [0.0800],\n",
       "         [0.1000],\n",
       "         [0.1200],\n",
       "         [0.1400],\n",
       "         [0.1600],\n",
       "         [0.1800]]),\n",
       " tensor([[0.3000],\n",
       "         [0.3140],\n",
       "         [0.3280],\n",
       "         [0.3420],\n",
       "         [0.3560],\n",
       "         [0.3700],\n",
       "         [0.3840],\n",
       "         [0.3980],\n",
       "         [0.4120],\n",
       "         [0.4260]]))"
      ]
     },
     "execution_count": 55,
     "metadata": {},
     "output_type": "execute_result"
    }
   ],
   "source": [
    "# Create known parameters.\n",
    "weight = 0.7\n",
    "bias = 0.3\n",
    "\n",
    "# Create\n",
    "start = 0\n",
    "end = 1\n",
    "step = 0.02\n",
    "X = torch.arange(start, end, step).unsqueeze(dim=1)\n",
    "#print(f\"X's value {X}\")\n",
    "# Formula below\n",
    "y = weight * X + bias # Regression formula\n",
    "print(f\"Y's value is: {y}\")\n",
    "\n",
    "X[:10], y[:10]\n"
   ]
  },
  {
   "cell_type": "code",
   "execution_count": 56,
   "metadata": {},
   "outputs": [
    {
     "data": {
      "text/plain": [
       "(50, 50)"
      ]
     },
     "execution_count": 56,
     "metadata": {},
     "output_type": "execute_result"
    }
   ],
   "source": [
    "len(X), len(y)"
   ]
  },
  {
   "cell_type": "markdown",
   "metadata": {},
   "source": [
    "### Splitting data into training and test sets (one of the most important concepts in machine learning in general)\n",
    "\n",
    "Let's create a training and test set with out data.\n"
   ]
  },
  {
   "cell_type": "code",
   "execution_count": 57,
   "metadata": {},
   "outputs": [
    {
     "data": {
      "text/plain": [
       "(40, 40, 10, 10)"
      ]
     },
     "execution_count": 57,
     "metadata": {},
     "output_type": "execute_result"
    }
   ],
   "source": [
    "# Create a train/test split\n",
    "train_split = int(0.8 * len(X))\n",
    "X_train, y_train = X[:train_split], y[:train_split]\n",
    "X_test, y_test = X[train_split:], y[train_split:]\n",
    "#print(f\"X_test is: {X_train}\")\n",
    "#print(f\"y_test is: {X_test}\")\n",
    "len(X_train), len(y_train), len(X_test), len(y_test)"
   ]
  },
  {
   "cell_type": "markdown",
   "metadata": {},
   "source": [
    "How might we better visualize our data?\n",
    "\n",
    "This is where the matplotlib library comes into play.\n",
    "\n",
    "There is a data explorer's model that comes to play.\n",
    "\n",
    "\"visualize, visualize, visualize!\"\n",
    "\n"
   ]
  },
  {
   "cell_type": "code",
   "execution_count": 58,
   "metadata": {},
   "outputs": [
    {
     "data": {
      "text/plain": [
       "(tensor([[0.0000],\n",
       "         [0.0200],\n",
       "         [0.0400],\n",
       "         [0.0600],\n",
       "         [0.0800],\n",
       "         [0.1000],\n",
       "         [0.1200],\n",
       "         [0.1400],\n",
       "         [0.1600],\n",
       "         [0.1800],\n",
       "         [0.2000],\n",
       "         [0.2200],\n",
       "         [0.2400],\n",
       "         [0.2600],\n",
       "         [0.2800],\n",
       "         [0.3000],\n",
       "         [0.3200],\n",
       "         [0.3400],\n",
       "         [0.3600],\n",
       "         [0.3800],\n",
       "         [0.4000],\n",
       "         [0.4200],\n",
       "         [0.4400],\n",
       "         [0.4600],\n",
       "         [0.4800],\n",
       "         [0.5000],\n",
       "         [0.5200],\n",
       "         [0.5400],\n",
       "         [0.5600],\n",
       "         [0.5800],\n",
       "         [0.6000],\n",
       "         [0.6200],\n",
       "         [0.6400],\n",
       "         [0.6600],\n",
       "         [0.6800],\n",
       "         [0.7000],\n",
       "         [0.7200],\n",
       "         [0.7400],\n",
       "         [0.7600],\n",
       "         [0.7800]]),\n",
       " tensor([[0.3000],\n",
       "         [0.3140],\n",
       "         [0.3280],\n",
       "         [0.3420],\n",
       "         [0.3560],\n",
       "         [0.3700],\n",
       "         [0.3840],\n",
       "         [0.3980],\n",
       "         [0.4120],\n",
       "         [0.4260],\n",
       "         [0.4400],\n",
       "         [0.4540],\n",
       "         [0.4680],\n",
       "         [0.4820],\n",
       "         [0.4960],\n",
       "         [0.5100],\n",
       "         [0.5240],\n",
       "         [0.5380],\n",
       "         [0.5520],\n",
       "         [0.5660],\n",
       "         [0.5800],\n",
       "         [0.5940],\n",
       "         [0.6080],\n",
       "         [0.6220],\n",
       "         [0.6360],\n",
       "         [0.6500],\n",
       "         [0.6640],\n",
       "         [0.6780],\n",
       "         [0.6920],\n",
       "         [0.7060],\n",
       "         [0.7200],\n",
       "         [0.7340],\n",
       "         [0.7480],\n",
       "         [0.7620],\n",
       "         [0.7760],\n",
       "         [0.7900],\n",
       "         [0.8040],\n",
       "         [0.8180],\n",
       "         [0.8320],\n",
       "         [0.8460]]))"
      ]
     },
     "execution_count": 58,
     "metadata": {},
     "output_type": "execute_result"
    }
   ],
   "source": [
    "X_train, y_train"
   ]
  },
  {
   "cell_type": "code",
   "execution_count": 59,
   "metadata": {},
   "outputs": [],
   "source": [
    "def plot_predictions(train_data=X_train,\n",
    "                    train_labels=y_train,\n",
    "                    test_data=X_test,\n",
    "                    test_labels=y_test,\n",
    "                    predictions=None):\n",
    "    \"\"\"\n",
    "        Plot training data, test data and compares predictions.\n",
    "    \"\"\"\n",
    "    plt.figure(figsize=(10, 7))\n",
    "\n",
    "    # Plot training data in blue\n",
    "    plt.scatter(train_data, train_labels, c=\"b\", s=4, label=\"Training data\")\n",
    "\n",
    "    # Plot testing data in green\n",
    "    plt.scatter(test_data, test_labels, c=\"g\", s=4, label=\"Testing data\")\n",
    "\n",
    "# Are there predictions?\n",
    "    if predictions is not None:\n",
    "        # Plot the predictions if they exists\n",
    "        plt.scatter(test_data, predictions, c=\"r\", s=4, label=\"Predictions\")\n",
    "\n",
    "    plt.legend(prop={\"size\": 14})"
   ]
  },
  {
   "cell_type": "code",
   "execution_count": 60,
   "metadata": {},
   "outputs": [
    {
     "data": {
      "image/png": "[encoded data removed]",
      "text/plain": [
       "<Figure size 1000x700 with 1 Axes>"
      ]
     },
     "metadata": {},
     "output_type": "display_data"
    }
   ],
   "source": [
    "plot_predictions()"
   ]
  },
  {
   "cell_type": "markdown",
   "metadata": {},
   "source": [
    "2. Building our first model in PyTorch\n",
    "This is very exciting... let's do it!\n",
    "\n",
    "We're going to be building classes throughout the course so get better familiar with these...\n",
    "\n",
    "What our model does:\n",
    "\n",
    "Start with random values (weight and & bias)\n",
    "Look for Training data and adjust the random values to better represent (or get closer to) the ideal values (the weight and bias values we used to create the values).\n",
    "How does it do so?\n",
    "\n",
    "Through two main algorithms:\n",
    "\n",
    "Gradient descent -> required_grads=True\n",
    "Backpropagation"
   ]
  },
  {
   "cell_type": "code",
   "execution_count": 128,
   "metadata": {},
   "outputs": [],
   "source": [
    " #Create linear regression model class, first PyTorch linear progression model\n",
    "class LinearRegressionModel(nn.Module): # <- almost everything in PyTorch imports from nn.Module neural networks.\n",
    "    def __init__(self):\n",
    "        super().__init__()\n",
    "        self.weights = nn.Parameter(torch.rand(1, # <- Start with a random weight and try to adjust it to the ideal weight\n",
    "                                               requires_grad=True, # <- Can this parameter be updated by a gradient descent?\n",
    "                                               dtype=torch.float)) # <- PyTorch loves this data type torch.float32\n",
    "        \n",
    "        self.bias = nn.Parameter(torch.rand(1, # <- Start with a random bias and try to adjust it to the ideal bias\n",
    "                                             requires_grad=True, # <- Can this parameter be updated by a gradient descent?\n",
    "                                             dtype=torch.float)) # <- PyTorch loves this data type torch.float32...\n",
    "        \n",
    "    # Forward method to define the computation\n",
    "    def forward(self, x: torch.Tensor) -> torch.Tensor: # <- \"x\" is the input data\n",
    "        return self.weights * x + self.bias # this is linear regression formula"
   ]
  },
  {
   "cell_type": "markdown",
   "metadata": {},
   "source": [
    "PyTorch model building essentials\n",
    "* torch.nn - contains all the building blocks for computational graphs (a neural network can be considered a computational graph)\n",
    "* torch.nn.Parameter - what parameters should our model try and learn, often PyTorch layer from torch.nn will set these for us\n",
    "* torch.nn Module - The base class for all neural network modules, if you subclass it, you should overwrite forward()\n",
    "* torch.optim - this is where the optimizers in PyTorch live, they will help with gradient descent.\n",
    "* def forward() - All nn.Module subclasses require you to overwrite forward() this method defines what happens in the forward computation."
   ]
  },
  {
   "cell_type": "markdown",
   "metadata": {},
   "source": [
    "Checking the contents of our PyTorch Module\n",
    "\n",
    "Now we've check our model or what's inside using our model .parameters()"
   ]
  },
  {
   "cell_type": "code",
   "execution_count": 62,
   "metadata": {},
   "outputs": [
    {
     "data": {
      "text/plain": [
       "tensor([0.4740])"
      ]
     },
     "execution_count": 62,
     "metadata": {},
     "output_type": "execute_result"
    }
   ],
   "source": [
    "# Just getting random value\n",
    "torch.randn(1)"
   ]
  },
  {
   "cell_type": "markdown",
   "metadata": {},
   "source": [
    "torch.randn(1)"
   ]
  },
  {
   "cell_type": "code",
   "execution_count": 63,
   "metadata": {},
   "outputs": [
    {
     "data": {
      "text/plain": [
       "[Parameter containing:\n",
       " tensor([0.2566], requires_grad=True),\n",
       " Parameter containing:\n",
       " tensor([0.7936], requires_grad=True)]"
      ]
     },
     "execution_count": 63,
     "metadata": {},
     "output_type": "execute_result"
    }
   ],
   "source": [
    "# Create a random seed, to keep the numbers consistent.\n",
    "#torch.manual_seed(42)\n",
    "\n",
    "# Create an instance of LinearRegression class\n",
    "model_0 = LinearRegressionModel()\n",
    "\n",
    "# Check out the parameters\n",
    "list(model_0.parameters())"
   ]
  },
  {
   "cell_type": "code",
   "execution_count": 64,
   "metadata": {},
   "outputs": [
    {
     "data": {
      "text/plain": [
       "OrderedDict([('weights', tensor([0.2566])), ('bias', tensor([0.7936]))])"
      ]
     },
     "execution_count": 64,
     "metadata": {},
     "output_type": "execute_result"
    }
   ],
   "source": [
    "# List the named parameters\n",
    "model_0.state_dict()"
   ]
  },
  {
   "cell_type": "code",
   "execution_count": 65,
   "metadata": {},
   "outputs": [
    {
     "data": {
      "text/plain": [
       "(0.7, 0.3)"
      ]
     },
     "execution_count": 65,
     "metadata": {},
     "output_type": "execute_result"
    }
   ],
   "source": [
    "weight, bias"
   ]
  },
  {
   "cell_type": "code",
   "execution_count": 66,
   "metadata": {},
   "outputs": [
    {
     "name": "stdout",
     "output_type": "stream",
     "text": [
      "X_test tensor([[0.8000],\n",
      "        [0.8200],\n",
      "        [0.8400],\n",
      "        [0.8600],\n",
      "        [0.8800],\n",
      "        [0.9000],\n",
      "        [0.9200],\n",
      "        [0.9400],\n",
      "        [0.9600],\n",
      "        [0.9800]])\n",
      "y_test tensor([[0.8600],\n",
      "        [0.8740],\n",
      "        [0.8880],\n",
      "        [0.9020],\n",
      "        [0.9160],\n",
      "        [0.9300],\n",
      "        [0.9440],\n",
      "        [0.9580],\n",
      "        [0.9720],\n",
      "        [0.9860]])\n"
     ]
    }
   ],
   "source": [
    "X_test, y_test\n",
    "print(f\"X_test {X_test}\")\n",
    "print(f\"y_test {y_test}\")"
   ]
  },
  {
   "cell_type": "markdown",
   "metadata": {},
   "source": [
    "# Making prediction using `torch.inference_mode()`\n",
    "\n",
    "To check our model's predictive power, let's see how well it predicts `y_test` based on `X_test`\n",
    "\n",
    "When we pass data through our model, it's going to run it through the forward() method."
   ]
  },
  {
   "cell_type": "code",
   "execution_count": 67,
   "metadata": {},
   "outputs": [
    {
     "data": {
      "text/plain": [
       "tensor([[0.9989],\n",
       "        [1.0040],\n",
       "        [1.0092],\n",
       "        [1.0143],\n",
       "        [1.0194],\n",
       "        [1.0246],\n",
       "        [1.0297],\n",
       "        [1.0348],\n",
       "        [1.0400],\n",
       "        [1.0451]])"
      ]
     },
     "execution_count": 67,
     "metadata": {},
     "output_type": "execute_result"
    }
   ],
   "source": [
    "# Make predictions with model with inference mode\n",
    "# Inference mode disables required_grads are keeping less track of data good for speed but not accuracy.\n",
    "# Think about Inference mode for larger mode, torch.no_grad is old but is in old code.\n",
    "with torch.inference_mode():\n",
    "    y_preds = model_0(X_test)\n",
    "\n",
    "y_preds"
   ]
  },
  {
   "cell_type": "code",
   "execution_count": 68,
   "metadata": {},
   "outputs": [
    {
     "data": {
      "text/plain": [
       "tensor([[0.8600],\n",
       "        [0.8740],\n",
       "        [0.8880],\n",
       "        [0.9020],\n",
       "        [0.9160],\n",
       "        [0.9300],\n",
       "        [0.9440],\n",
       "        [0.9580],\n",
       "        [0.9720],\n",
       "        [0.9860]])"
      ]
     },
     "execution_count": 68,
     "metadata": {},
     "output_type": "execute_result"
    }
   ],
   "source": [
    "y_test"
   ]
  },
  {
   "cell_type": "code",
   "execution_count": 69,
   "metadata": {},
   "outputs": [
    {
     "data": {
      "image/png": "[encoded data removed]",
      "text/plain": [
       "<Figure size 1000x700 with 1 Axes>"
      ]
     },
     "metadata": {},
     "output_type": "display_data"
    }
   ],
   "source": [
    "# Visualize, visualize, visualize\n",
    "plot_predictions(predictions=y_preds)"
   ]
  },
  {
   "cell_type": "markdown",
   "metadata": {},
   "source": [
    "## 3. Training a model \n",
    "\n",
    "The whole idea of training is for a model to move from some *unknown* parameters (these may be random) to some *known* parameters.\n",
    "\n",
    "Or in other words from a poor representation of the data to a better representation of the data.\n",
    "\n",
    "One way to measure how poor or how wrong your models predictions are is to use a\n",
    "loss function.   \n",
    "\n",
    "* Note: Loss function may also be called cost function or criterion in different areas. For our case, we're going to refer to it as a loss function. \n",
    "\n",
    "Things we need to train:\n",
    "  \n",
    "* **Loss function:** A function to measure how wrong your model's predictions are to the ideal outputs, lower is better.\n",
    "\n",
    "* **Optimizer:** Takes into account the loss of a model and adjusts the model's parameters. (e.g. weight & bias in our case) to improve the loss function. (Where the red dots will land.)\n",
    "\n",
    "* Inside the optimizer you'll often have to set two parameters:\n",
    "* params - the model parameters you'd like to optimize for example params-model_0.parameters()\n",
    "* lr (learning rate) - the learning rate is a hyperparameter that defines how big/small the optimizer changes the parameters with each step (a small lr results in small changes, a large lr results in large changes)\n",
    "* Hyperparameters are parameters that we set.\n",
    "\n",
    "And specifically for PyTorch, we need:\n",
    "* A training loop\n",
    "* A testing loog"
   ]
  },
  {
   "cell_type": "code",
   "execution_count": 70,
   "metadata": {},
   "outputs": [
    {
     "data": {
      "text/plain": [
       "OrderedDict([('weights', tensor([0.2566])), ('bias', tensor([0.7936]))])"
      ]
     },
     "execution_count": 70,
     "metadata": {},
     "output_type": "execute_result"
    }
   ],
   "source": [
    "# Check out our model's parameters (a parameter is a value that the model sets itself)\n",
    "model_0.parameters\n",
    "model_0.state_dict()"
   ]
  },
  {
   "cell_type": "code",
   "execution_count": 71,
   "metadata": {},
   "outputs": [],
   "source": [
    "# Setup a loss function which measures how wrong our model is.\n",
    "loss_fn = nn.L1Loss()\n",
    "\n",
    "\n",
    "# Setup an optimizer (stochastic gradient descent) which adjust our model's parameters to reduce the loss.\n",
    "optimizer = torch.optim.SGD(params=model_0.parameters(),\n",
    "                            lr=0.01) # Check out our model's parameters (a parameter is a value that the model sets itself)\n",
    "\n"
   ]
  },
  {
   "cell_type": "code",
   "execution_count": 72,
   "metadata": {},
   "outputs": [
    {
     "data": {
      "text/plain": [
       "L1Loss()"
      ]
     },
     "execution_count": 72,
     "metadata": {},
     "output_type": "execute_result"
    }
   ],
   "source": [
    "loss_fn"
   ]
  },
  {
   "cell_type": "markdown",
   "metadata": {},
   "source": [
    "Q: Which loss function and optimizer should I use?\n",
    "A: This will be problem specific. But with experience, you'll get an idea of what works and what doesn't with your particular problem set.\n",
    "For example, for a regression problem (like ours), a loss function of nn.L1Loss () and an optimizer like torch.optim.SGD() will suffice.\n",
    "\n",
    "But for a classification problem like classifying whether a photo is of a dog or a cat, you'll likely want to use a loss function of nn.BCELoss() (binary cross entropy loss)."
   ]
  },
  {
   "cell_type": "markdown",
   "metadata": {},
   "source": [
    "### Building a training loop (and a testing loop) in PyTorch\n",
    "A couple of things we need in a training loop:\n",
    "\n",
    "0. Loop through the data\n",
    "1. Forward pass (this involves data moving through our model's 'forward()'\n",
    "functions) to make predictions on data - also called forward propagation\n",
    "2. Calculate the loss (compare forward pass predictions to ground truth labels)\n",
    "3. Optimizer zero grad\n",
    "4. Loss backward - move backwards through the network to calculate the gradients of\n",
    "each of the parameters of our model with respect to the loss (**backpropagation**)\n",
    "5. Optimizer step - use the optimizer to adjust our model's parameters to try and\n",
    "improve the loss (**gradient descent**)"
   ]
  },
  {
   "cell_type": "code",
   "execution_count": 127,
   "metadata": {},
   "outputs": [
    {
     "name": "stdout",
     "output_type": "stream",
     "text": [
      "Loss param: 0.03357194364070892\n",
      "Epoch: 0| Loss: 0.03357194364070892 | Test loss: 0.07740829139947891\n",
      "Model state dict: OrderedDict([('weights', tensor([0.5348])), ('bias', tensor([0.3696]))])\n",
      "Loss param: 0.033235352486371994\n",
      "Loss param: 0.03288674354553223\n",
      "Loss param: 0.03254634514451027\n",
      "Loss param: 0.03220153972506523\n",
      "Loss param: 0.031857334077358246\n",
      "Loss param: 0.031516335904598236\n",
      "Loss param: 0.031168321147561073\n",
      "Loss param: 0.03083113394677639\n",
      "Loss param: 0.030482137575745583\n",
      "Loss param: 0.03014310821890831\n",
      "Epoch: 10| Loss: 0.03014310821890831 | Test loss: 0.06982262432575226\n",
      "Model state dict: OrderedDict([('weights', tensor([0.5517])), ('bias', tensor([0.3621]))])\n",
      "Loss param: 0.029796937480568886\n",
      "Loss param: 0.029454106464982033\n",
      "Loss param: 0.02911173366010189\n",
      "Loss param: 0.02876509353518486\n",
      "Loss param: 0.028426531702280045\n",
      "Loss param: 0.028077537193894386\n",
      "Loss param: 0.027739878743886948\n",
      "Loss param: 0.027392327785491943\n",
      "Loss param: 0.027050873264670372\n",
      "Loss param: 0.026707131415605545\n",
      "Epoch: 20| Loss: 0.026707131415605545 | Test loss: 0.0615500807762146\n",
      "Model state dict: OrderedDict([('weights', tensor([0.5689])), ('bias', tensor([0.3551]))])\n",
      "Loss param: 0.02636186219751835\n",
      "Loss param: 0.02602193132042885\n",
      "Loss param: 0.025672923773527145\n",
      "Loss param: 0.025336647406220436\n",
      "Loss param: 0.02498772367835045\n",
      "Loss param: 0.02464764192700386\n",
      "Loss param: 0.02430252730846405\n",
      "Loss param: 0.02395862340927124\n",
      "Loss param: 0.023617323487997055\n",
      "Loss param: 0.023269619792699814\n",
      "Epoch: 30| Loss: 0.023269619792699814 | Test loss: 0.05396442487835884\n",
      "Model state dict: OrderedDict([('weights', tensor([0.5858])), ('bias', tensor([0.3476]))])\n",
      "Loss param: 0.02293211966753006\n",
      "Loss param: 0.022583117708563805\n",
      "Loss param: 0.022244412451982498\n",
      "Loss param: 0.021897921338677406\n",
      "Loss param: 0.021555393934249878\n",
      "Loss param: 0.021212711930274963\n",
      "Loss param: 0.02086639031767845\n",
      "Loss param: 0.020527515560388565\n",
      "Loss param: 0.02017851546406746\n",
      "Loss param: 0.019841181114315987\n",
      "Epoch: 40| Loss: 0.019841181114315987 | Test loss: 0.045691877603530884\n",
      "Model state dict: OrderedDict([('weights', tensor([0.6030])), ('bias', tensor([0.3406]))])\n",
      "Loss param: 0.019493315368890762\n",
      "Loss param: 0.019152168184518814\n",
      "Loss param: 0.01880810782313347\n",
      "Loss param: 0.01846316084265709\n",
      "Loss param: 0.01812291517853737\n",
      "Loss param: 0.017774149775505066\n",
      "Loss param: 0.017437707632780075\n",
      "Loss param: 0.01708870939910412\n",
      "Loss param: 0.016748938709497452\n",
      "Loss param: 0.016403507441282272\n",
      "Epoch: 50| Loss: 0.016403507441282272 | Test loss: 0.03741933032870293\n",
      "Model state dict: OrderedDict([('weights', tensor([0.6202])), ('bias', tensor([0.3336]))])\n",
      "Loss param: 0.01605992391705513\n",
      "Loss param: 0.015718307346105576\n",
      "Loss param: 0.01537091750651598\n",
      "Loss param: 0.01503310538828373\n",
      "Loss param: 0.014684101566672325\n",
      "Loss param: 0.014345715753734112\n",
      "Loss param: 0.013998905196785927\n",
      "Loss param: 0.013656696304678917\n",
      "Loss param: 0.013313701376318932\n",
      "Loss param: 0.012967685237526894\n",
      "Epoch: 60| Loss: 0.012967685237526894 | Test loss: 0.02983366884291172\n",
      "Model state dict: OrderedDict([('weights', tensor([0.6371])), ('bias', tensor([0.3261]))])\n",
      "Loss param: 0.012628503143787384\n",
      "Loss param: 0.012279501184821129\n",
      "Loss param: 0.011942477896809578\n",
      "Loss param: 0.011594305746257305\n",
      "Loss param: 0.011253459379076958\n",
      "Loss param: 0.010909096337854862\n",
      "Loss param: 0.010564455762505531\n",
      "Loss param: 0.010223892517387867\n",
      "Loss param: 0.009875447489321232\n",
      "Loss param: 0.00953869428485632\n",
      "Epoch: 70| Loss: 0.00953869428485632 | Test loss: 0.021561140194535255\n",
      "Model state dict: OrderedDict([('weights', tensor([0.6543])), ('bias', tensor([0.3191]))])\n",
      "Loss param: 0.009189696982502937\n",
      "Loss param: 0.008850237354636192\n",
      "Loss param: 0.00850448664277792\n",
      "Loss param: 0.008161230012774467\n",
      "Loss param: 0.00781929399818182\n",
      "Loss param: 0.0074722180142998695\n",
      "Loss param: 0.007134091109037399\n",
      "Loss param: 0.006785089615732431\n",
      "Loss param: 0.006447008345276117\n",
      "Loss param: 0.0060998862609267235\n",
      "Epoch: 80| Loss: 0.0060998862609267235 | Test loss: 0.01328859943896532\n",
      "Model state dict: OrderedDict([('weights', tensor([0.6714])), ('bias', tensor([0.3121]))])\n",
      "Loss param: 0.0057579949498176575\n",
      "Loss param: 0.005414689425379038\n",
      "Loss param: 0.0050689890049397945\n",
      "Loss param: 0.00472948607057333\n",
      "Loss param: 0.004380484577268362\n",
      "Loss param: 0.004043777473270893\n",
      "Loss param: 0.00369528541341424\n",
      "Loss param: 0.0033547640778124332\n",
      "Loss param: 0.003010078566148877\n",
      "Loss param: 0.0026657595299184322\n",
      "Epoch: 90| Loss: 0.0026657595299184322 | Test loss: 0.005702942609786987\n",
      "Model state dict: OrderedDict([('weights', tensor([0.6884])), ('bias', tensor([0.3046]))])\n",
      "Loss param: 0.0023251965176314116\n",
      "Loss param: 0.002027377486228943\n",
      "Loss param: 0.001972053200006485\n",
      "Loss param: 0.0034578449558466673\n",
      "Loss param: 0.008063153363764286\n",
      "Loss param: 0.0034578449558466673\n",
      "Loss param: 0.008063153363764286\n",
      "Loss param: 0.0034578449558466673\n",
      "Loss param: 0.008063153363764286\n"
     ]
    }
   ],
   "source": [
    "# Five major steps for training a model. \n",
    "# Random seed to keep numbers consistent\n",
    "torch.manual_seed(42)\n",
    "# An epoch is one loop through the data...(this is a hyperparameter because we've set it ourselves)\n",
    "epochs = 100\n",
    "### Training\n",
    "#O. Loop through the data\n",
    "for epoch in range(epochs):\n",
    "    # Set the model to training mode\n",
    "    model_0.train() # train mode in PyTorch sets all parameters that require gradients to require gradients\n",
    "    \n",
    "    # Pass the data through the model, this will perform the forward() method located within the model object \n",
    "    y_pred = model_0(X_train)\n",
    "\n",
    "   # 2. Calculate the loss value (how wrong the model's predictions are)\n",
    "    loss = loss_fn(y_pred, y_train)\n",
    "    print(f\"Loss param: {loss}\")\n",
    "\n",
    "    # 3. Zero the optimizer gradients (they accumulate every epoch, zero them to start fresh each forward pass)\n",
    "    optimizer.zero_grad()\n",
    "\n",
    "    #4. Perform backpropagation on the loss function (compute the gradient of every parameter with emall\n",
    "    # requires_grad=True)\n",
    "    loss.backward()\n",
    "\n",
    "    #5. Step the optimizer (perform gradient descent) \n",
    "    optimizer.step() #by default how the optimizer changes will accumulate\n",
    "                     #through the loop so... we have to zero them above in step 3 for the next iteration of\n",
    "                     #the loop\n",
    "    ### Testing\n",
    "    model_0.eval() # turns off different settings in the model not needed for evaluation/testing (dropout/batch norm layers) \n",
    "    with torch.inference_mode(): # turns off gradient tracking & a couple more things behind the scenes\n",
    "    # with torch.no_grad(): # you may also see torch.no_grad() in older PyTorch code torch.inference is faster though\n",
    "        # 1. Do the forward pass\n",
    "        test_pred = model_0(X_test)\n",
    "        # 2. Calculate the loss\n",
    "        test_loss = loss_fn(test_pred, y_test)\n",
    "    if epoch % 10 == 0:\n",
    "        print(f\"Epoch: {epoch}| Loss: {loss} | Test loss: {test_loss}\")\n",
    "    # Print out model state_dict()\n",
    "        print(f\"Model state dict: {model_0.state_dict()}\")"
   ]
  },
  {
   "cell_type": "code",
   "execution_count": 122,
   "metadata": {},
   "outputs": [
    {
     "data": {
      "text/plain": [
       "OrderedDict([('weights', tensor([0.5330])), ('bias', tensor([0.3701]))])"
      ]
     },
     "execution_count": 122,
     "metadata": {},
     "output_type": "execute_result"
    }
   ],
   "source": [
    "model_0.state_dict()"
   ]
  },
  {
   "cell_type": "code",
   "execution_count": 123,
   "metadata": {},
   "outputs": [],
   "source": [
    "with torch.inference_mode():\n",
    "    y_preds = model_0(X_test)"
   ]
  },
  {
   "cell_type": "code",
   "execution_count": 124,
   "metadata": {},
   "outputs": [
    {
     "data": {
      "text/plain": [
       "(0.7, 0.3)"
      ]
     },
     "execution_count": 124,
     "metadata": {},
     "output_type": "execute_result"
    }
   ],
   "source": [
    "weight, bias"
   ]
  },
  {
   "cell_type": "code",
   "execution_count": 126,
   "metadata": {},
   "outputs": [
    {
     "data": {
      "image/png": "[encoded data removed]",
      "text/plain": [
       "<Figure size 1000x700 with 1 Axes>"
      ]
     },
     "metadata": {},
     "output_type": "display_data"
    }
   ],
   "source": [
    "plot_predictions(predictions=y_preds)"
   ]
  },
  {
   "cell_type": "code",
   "execution_count": 78,
   "metadata": {},
   "outputs": [],
   "source": [
    "# # My training loop\n",
    "\n",
    "# # Number of epochs \n",
    "# epochs = 1\n",
    "\n",
    "# ### Training\n",
    "# # 0. Loop through data\n",
    "# for epoch in range(epochs):\n",
    "#     # Set the model to training mode\n",
    "#     model_0.train()\n",
    "\n",
    "# # 1. Forward Pass\n",
    "#     y_pred = model_0(X_train)\n",
    "\n",
    "# # 2. Calculate the loss\n",
    "#     loss = loss_fn(y_pred, y_train) \n",
    "\n",
    "# # 3. Optimizer zero grad\n",
    "#     optimizer.zero_grad()\n",
    "    \n",
    "# # 4. Losses backward\n",
    "#     loss.backward()\n",
    "\n",
    "# # 5. Optimizer step\n",
    "#     optimizer.step()\n",
    "\n",
    "# model_0.eval()\n",
    "\n"
   ]
  },
  {
   "cell_type": "code",
   "execution_count": null,
   "metadata": {},
   "outputs": [],
   "source": [
    "# Start at 7:00:00 in the video"
   ]
  }
 ],
 "metadata": {
  "kernelspec": {
   "display_name": "pytorch",
   "language": "python",
   "name": "python3"
  },
  "language_info": {
   "codemirror_mode": {
    "name": "ipython",
    "version": 3
   },
   "file_extension": ".py",
   "mimetype": "text/x-python",
   "name": "python",
   "nbconvert_exporter": "python",
   "pygments_lexer": "ipython3",
   "version": "3.9.17"
  },
  "orig_nbformat": 4
 },
 "nbformat": 4,
 "nbformat_minor": 2
}
