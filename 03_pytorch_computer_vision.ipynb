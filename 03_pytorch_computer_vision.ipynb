{
 "cells": [
  {
   "cell_type": "markdown",
   "metadata": {},
   "source": [
    "## 0. Computer vision libraries in PyTorch\n",
    "* `torchvision` - base domain library for PyTorch computer vision\n",
    "\"torchvision.datasets' - get datasets and data loading functions for computer vision here.\n",
    "*torchvision models' - get pretrained computer vision models that you can\n",
    "leverage for your own problems\n",
    "*torchvision. transforms' - functions for manipulating your vision data (images)\n",
    "to be suitable for ~2 with an ML model"
   ]
  },
  {
   "cell_type": "markdown",
   "metadata": {},
   "source": []
  }
 ],
 "metadata": {
  "language_info": {
   "name": "python"
  }
 },
 "nbformat": 4,
 "nbformat_minor": 2
}
