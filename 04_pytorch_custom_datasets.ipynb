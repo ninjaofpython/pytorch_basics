{
 "cells": [
  {
   "cell_type": "markdown",
   "metadata": {},
   "source": [
    "# 04. PyTorch Custom Datasets Video Notebook\n",
    "We've used some datasets with PyTorch before.\n",
    "But how do you get your own data into PyTorch?\n",
    "One of the ways to do so is via: custom datasets.\n",
    "## Domain libraries\n",
    "Depending on what you're working on, vision, text, audio, recommendation, you'11\n",
    "want to look into each of the PyTorch domain libraries for existing data loading\n",
    "functions and customizable data loading functions.\n",
    " \n",
    "**Resources:**\n",
    "* Book version of the course materials for 04: https://www.learnpytorch.io/\n",
    "04_ pytorch_custom _datasets/\n",
    "* Ground truth version of notebook 04: https://github.com/mrdbourke/\n",
    "pytorch-deep-learning/blob/main/04 _pytorch_custom_datasets.ipynb"
   ]
  },
  {
   "cell_type": "code",
   "execution_count": 1,
   "metadata": {},
   "outputs": [],
   "source": [
    "import torch\n",
    "from torch import nn\n",
    "\n"
   ]
  },
  {
   "cell_type": "code",
   "execution_count": null,
   "metadata": {},
   "outputs": [],
   "source": [
    "device = \"cuda\""
   ]
  }
 ],
 "metadata": {
  "kernelspec": {
   "display_name": "pytorch",
   "language": "python",
   "name": "python3"
  },
  "language_info": {
   "codemirror_mode": {
    "name": "ipython",
    "version": 3
   },
   "file_extension": ".py",
   "mimetype": "text/x-python",
   "name": "python",
   "nbconvert_exporter": "python",
   "pygments_lexer": "ipython3",
   "version": "3.9.17"
  }
 },
 "nbformat": 4,
 "nbformat_minor": 2
}
